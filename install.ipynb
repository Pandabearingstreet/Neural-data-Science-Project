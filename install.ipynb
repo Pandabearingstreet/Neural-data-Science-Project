{
 "cells": [
  {
   "cell_type": "code",
   "execution_count": 2,
   "metadata": {},
   "outputs": [
    {
     "name": "stderr",
     "output_type": "stream",
     "text": [
      "Cloning into 'RFEst'...\n",
      "ERROR: Invalid requirement: '-': Expected package name at the start of dependency specifier\n",
      "    -\n",
      "    ^\n"
     ]
    }
   ],
   "source": [
    "!git clone https://github.com/berenslab/RFEst"
   ]
  },
  {
   "cell_type": "code",
   "execution_count": 3,
   "metadata": {},
   "outputs": [
    {
     "name": "stdout",
     "output_type": "stream",
     "text": [
      "Obtaining file:///C:/Users/rkrueger/Desktop/Neural-data-Science-Project/RFEst\n",
      "  Installing build dependencies: started\n",
      "  Installing build dependencies: finished with status 'done'\n",
      "  Checking if build backend supports build_editable: started\n",
      "  Checking if build backend supports build_editable: finished with status 'done'\n",
      "  Getting requirements to build editable: started\n",
      "  Getting requirements to build editable: finished with status 'done'\n",
      "  Preparing editable metadata (pyproject.toml): started\n",
      "  Preparing editable metadata (pyproject.toml): finished with status 'done'\n",
      "Building wheels for collected packages: rfest\n",
      "  Building editable for rfest (pyproject.toml): started\n",
      "  Building editable for rfest (pyproject.toml): finished with status 'done'\n",
      "  Created wheel for rfest: filename=rfest-2.1.2-0.editable-py3-none-any.whl size=15207 sha256=5a2104b9d94755fa9c19f84ed1442f069660b4e5ae4db81678d89a1ec36d4147\n",
      "  Stored in directory: C:\\Users\\rkrueger\\AppData\\Local\\Temp\\pip-ephem-wheel-cache-kzkupbwd\\wheels\\6f\\b7\\1e\\96cc5aa14904770fd62c683ae79be6f43f9edb101b5f2ad57b\n",
      "Successfully built rfest\n",
      "Installing collected packages: rfest\n",
      "Successfully installed rfest-2.1.2\n"
     ]
    }
   ],
   "source": [
    "!pip install -e RFEst"
   ]
  },
  {
   "cell_type": "code",
   "execution_count": 10,
   "metadata": {},
   "outputs": [
    {
     "name": "stdout",
     "output_type": "stream",
     "text": [
      "Collecting jax\n",
      "  Downloading jax-0.4.30-py3-none-any.whl.metadata (22 kB)\n",
      "Collecting jaxlib<=0.4.30,>=0.4.27 (from jax)\n",
      "  Downloading jaxlib-0.4.30-cp311-cp311-win_amd64.whl.metadata (1.1 kB)\n",
      "Collecting ml-dtypes>=0.2.0 (from jax)\n",
      "  Using cached ml_dtypes-0.4.0-cp311-cp311-win_amd64.whl.metadata (20 kB)\n",
      "Requirement already satisfied: numpy>=1.22 in c:\\users\\rkrueger\\desktop\\neural-data-science-project\\.venv\\lib\\site-packages (from jax) (2.0.1)\n",
      "Collecting opt-einsum (from jax)\n",
      "  Using cached opt_einsum-3.3.0-py3-none-any.whl.metadata (6.5 kB)\n",
      "Requirement already satisfied: scipy>=1.9 in c:\\users\\rkrueger\\desktop\\neural-data-science-project\\.venv\\lib\\site-packages (from jax) (1.14.0)\n",
      "Downloading jax-0.4.30-py3-none-any.whl (2.0 MB)\n",
      "   ---------------------------------------- 0.0/2.0 MB ? eta -:--:--\n",
      "   ---------------------------------------- 2.0/2.0 MB 9.3 MB/s eta 0:00:00\n",
      "Downloading jaxlib-0.4.30-cp311-cp311-win_amd64.whl (51.9 MB)\n",
      "   ---------------------------------------- 0.0/51.9 MB ? eta -:--:--\n",
      "   --- ------------------------------------ 4.7/51.9 MB 22.0 MB/s eta 0:00:03\n",
      "   ------- -------------------------------- 9.4/51.9 MB 23.5 MB/s eta 0:00:02\n",
      "   ----------- ---------------------------- 15.2/51.9 MB 23.9 MB/s eta 0:00:02\n",
      "   ---------------- ----------------------- 22.0/51.9 MB 25.8 MB/s eta 0:00:02\n",
      "   ---------------------- ----------------- 29.6/51.9 MB 28.0 MB/s eta 0:00:01\n",
      "   ----------------------------- ---------- 37.7/51.9 MB 29.6 MB/s eta 0:00:01\n",
      "   ----------------------------------- ---- 46.7/51.9 MB 31.6 MB/s eta 0:00:01\n",
      "   ---------------------------------------  51.9/51.9 MB 32.7 MB/s eta 0:00:01\n",
      "   ---------------------------------------  51.9/51.9 MB 32.7 MB/s eta 0:00:01\n",
      "   ---------------------------------------  51.9/51.9 MB 32.7 MB/s eta 0:00:01\n",
      "   ---------------------------------------- 51.9/51.9 MB 23.6 MB/s eta 0:00:00\n",
      "Downloading ml_dtypes-0.4.0-cp311-cp311-win_amd64.whl (126 kB)\n",
      "Using cached opt_einsum-3.3.0-py3-none-any.whl (65 kB)\n",
      "Installing collected packages: opt-einsum, ml-dtypes, jaxlib, jax\n",
      "Successfully installed jax-0.4.30 jaxlib-0.4.30 ml-dtypes-0.4.0 opt-einsum-3.3.0\n"
     ]
    }
   ],
   "source": [
    "!pip install jax"
   ]
  },
  {
   "cell_type": "code",
   "execution_count": 14,
   "metadata": {},
   "outputs": [
    {
     "name": "stdout",
     "output_type": "stream",
     "text": [
      "Requirement already satisfied: jaxlib in c:\\users\\rkrueger\\desktop\\neural-data-science-project\\.venv\\lib\\site-packages (0.4.30)\n",
      "Requirement already satisfied: scipy>=1.9 in c:\\users\\rkrueger\\desktop\\neural-data-science-project\\.venv\\lib\\site-packages (from jaxlib) (1.14.0)\n",
      "Requirement already satisfied: numpy>=1.22 in c:\\users\\rkrueger\\desktop\\neural-data-science-project\\.venv\\lib\\site-packages (from jaxlib) (2.0.1)\n",
      "Requirement already satisfied: ml-dtypes>=0.2.0 in c:\\users\\rkrueger\\desktop\\neural-data-science-project\\.venv\\lib\\site-packages (from jaxlib) (0.4.0)\n"
     ]
    }
   ],
   "source": [
    "!pip install jaxlib"
   ]
  },
  {
   "cell_type": "code",
   "execution_count": 16,
   "metadata": {},
   "outputs": [
    {
     "name": "stdout",
     "output_type": "stream",
     "text": [
      "Collecting h5py\n",
      "  Using cached h5py-3.11.0-cp311-cp311-win_amd64.whl.metadata (2.5 kB)\n",
      "Requirement already satisfied: numpy>=1.17.3 in c:\\users\\rkrueger\\desktop\\neural-data-science-project\\.venv\\lib\\site-packages (from h5py) (2.0.1)\n",
      "Using cached h5py-3.11.0-cp311-cp311-win_amd64.whl (3.0 MB)\n",
      "Installing collected packages: h5py\n",
      "Successfully installed h5py-3.11.0\n"
     ]
    }
   ],
   "source": [
    "!pip install h5py"
   ]
  },
  {
   "cell_type": "markdown",
   "metadata": {},
   "source": [
    "now we can take the folder rfest from RFEst and put it into the lib/sitepackages folder. it is now a package\n"
   ]
  }
 ],
 "metadata": {
  "kernelspec": {
   "display_name": ".venv",
   "language": "python",
   "name": "python3"
  },
  "language_info": {
   "codemirror_mode": {
    "name": "ipython",
    "version": 3
   },
   "file_extension": ".py",
   "mimetype": "text/x-python",
   "name": "python",
   "nbconvert_exporter": "python",
   "pygments_lexer": "ipython3",
   "version": "3.11.9"
  }
 },
 "nbformat": 4,
 "nbformat_minor": 2
}
